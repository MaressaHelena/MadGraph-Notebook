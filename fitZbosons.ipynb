{
 "cells": [
  {
   "cell_type": "code",
   "execution_count": 10,
   "metadata": {},
   "outputs": [],
   "source": [
    "import ROOT\n",
    "from ROOT import TCanvas, TF1, TPaveLabel, TPad, TText\n",
    "from ROOT import gROOT\n",
    "from ROOT import TMath\n",
    "import math"
   ]
  },
  {
   "cell_type": "markdown",
   "metadata": {},
   "source": [
    "FIT PARAMETES:\n",
    "    - par[0]=Width (scale) Breit-Wigner\n",
    "    - par[1]=Most Probable (MP, location) Breit mean\n",
    "    - par[2]=Total area (integral -inf to inf, normalization constant)\n",
    "    - par[3]=Width (sigma) of convoluted Gaussian function\n"
   ]
  },
  {
   "cell_type": "code",
   "execution_count": 11,
   "metadata": {},
   "outputs": [
    {
     "name": "stdout",
     "output_type": "stream",
     "text": [
      "1921\n",
      "#chi^{2}/ndf = 1.229481140583065  prob=  0.12199534313965267\n",
      "======> EVENT:0\n",
      " Zmass           = 80.9184\n",
      " Zpt             = 0.883632\n",
      " Zeta            = -6.1385\n",
      " Zphi            = -1.67533\n",
      " Zrapidity       = 1.19323\n",
      " Zcharge         = 0\n",
      " FCN=65.1625 FROM MIGRAD    STATUS=CONVERGED      59 CALLS          60 TOTAL\n",
      "                     EDM=5.68923e-09    STRATEGY= 1      ERROR MATRIX ACCURATE \n",
      "  EXT PARAMETER                                   STEP         FIRST   \n",
      "  NO.   NAME      VALUE            ERROR          SIZE      DERIVATIVE \n",
      "   1  BW width     2.49500e+00     fixed    \n",
      "   2  BW mean      9.07994e+01   6.59115e-02   5.20816e-05  -6.94686e-03\n",
      "   3  Area         2.04210e+03   4.74032e+01   1.88265e-01  -9.79971e-08\n",
      "   4  Sigma        1.48235e+00   8.60496e-02   3.39689e-04   5.25668e-04\n"
     ]
    },
    {
     "name": "stderr",
     "output_type": "stream",
     "text": [
      "Warning in <TCanvas::Constructor>: Deleting canvas with same name: tc\n",
      "Info in <TCanvas::Print>: png file Zpeak.png has been created\n"
     ]
    },
    {
     "data": {
      "image/png": "[encoded data removed]",
      "text/plain": [
       "<IPython.core.display.Image object>"
      ]
     },
     "metadata": {},
     "output_type": "display_data"
    }
   ],
   "source": [
    "\n",
    "def RBWGaus(x, par):\n",
    "\n",
    "    np = 100 # #number of convolution steps\n",
    "    sc = 4 #convolution extends to +-sc Gaussian sigmas\n",
    "\n",
    "          #Range of convolution integral\n",
    "    xmin = x[0] - sc * par[3]\n",
    "    xmax = x[0] + sc * par[3]\n",
    "    step = (xmax-xmin) / np\n",
    "    \n",
    "      # Convolution integral of Breit-Wigner and Gaussian by sum\n",
    "    sum = 0.0\n",
    "\n",
    "\n",
    "\n",
    "    for i in range (1, np//2):\n",
    "        xx = xmin + (i-.5) * step\n",
    "        fbw = TMath.BreitWigner(xx,par[1],par[0])\n",
    "        sum += fbw * TMath.Gaus(x[0],xx,par[3])\n",
    "\n",
    "        xx = xmax - (i-.5) * step\n",
    "        fbw = TMath.BreitWigner(xx,par[1],par[0])\n",
    "        sum += fbw * TMath.Gaus(x[0],xx,par[3])\n",
    "    return (par[2] * step * sum * (1./math.sqrt(2*TMath.Pi())) / par[3])\n",
    "\n",
    "\n",
    "c = ROOT.TCanvas()\n",
    "\n",
    "inf = ROOT.TFile.Open(\"Zbosons.root\")\n",
    "ztree = inf.Get(\"ztree\")\n",
    "ztree.Show (0) # printa as variáveis que estão na tree nesse evento 0\n",
    "N = ztree.GetEntries ()\n",
    "print (N)\n",
    "hmass = ROOT.TH1F(\"hmass\",\"\", 60,60,120)\n",
    "\n",
    "for j in range(0, ztree.GetEntries()):\n",
    "\n",
    "    ztree.GetEntry(j)\n",
    "\n",
    "    if(ztree.Zcharge != 0):\n",
    "        continue\n",
    "\n",
    "    hmass.Fill(ztree.Zmass)\n",
    "    hmass.Draw()\n",
    "    c.Draw()\n",
    "\n",
    "tc = ROOT.TCanvas(\"tc\",\"Dimuon mass\", 600, 600)\n",
    "\n",
    "tc.SetTopMargin(0.05)\n",
    "tc.SetRightMargin(0.05)\n",
    "tc.SetBottomMargin(0.12)\n",
    "tc.SetLeftMargin(0.13)\n",
    "tc.SetTickx(1)\n",
    "tc.SetTicky(1)\n",
    "\n",
    "hmass.SetMarkerStyle(20)\n",
    "hmass.SetMarkerColor(ROOT.kRed)\n",
    "hmass.SetLineColor(ROOT.kRed)\n",
    "hmass.GetXaxis().SetTitle(\"Mass (GeV)\")\n",
    "hmass.GetYaxis().SetTitle(\"Counts\")\n",
    "hmass.GetXaxis().SetTitleSize(0.05)\n",
    "hmass.GetYaxis().SetTitleSize(0.05)  \n",
    "hmass.GetYaxis().SetTitleOffset(1.2)\n",
    "\n",
    "f = ROOT.TF1(\"f\", RBWGaus ,60,120,4)\n",
    "\n",
    "f.SetParameters(2.495, 91.0, 2000.0, 2.0)\n",
    "f.SetParNames(\"BW width\",\"BW mean\",\"Area\",\"Sigma\")\n",
    "f.FixParameter(0, 2.495) #PDG value\n",
    "f.SetParLimits(1, 86, 96)\n",
    "f.SetLineColor(ROOT.kBlue) \n",
    "\n",
    "hmass.Fit(f,\"RS\")\n",
    "hmass.Draw(\"ep\")\n",
    "f.Draw(\"same\")\n",
    "\n",
    "l = ROOT.TLegend(0.18,0.78,0.34,0.90)\n",
    "l.SetTextSize(0.04)\n",
    "l.AddEntry(hmass,\"Z#rightarrow#mu#mu\",\"lp\") # ???\n",
    "l.AddEntry(f,\"Fit\",\"l\")\n",
    "l.Draw()\n",
    "\n",
    "tx = ROOT.TLatex()\n",
    "tx.SetTextSize(0.03)\n",
    "tx.SetTextAlign(12)\n",
    "tx.SetTextFont(42)\n",
    "tx.SetNDC(ROOT.kTRUE)\n",
    "\n",
    "# Test statisics fit\n",
    "ndf,chi2,prob = f.GetNDF(),f.GetChisquare(),f.GetProb()\n",
    "\n",
    "print(\"#chi^{2}/ndf =\", chi2/ndf,\" prob= \",prob)\n",
    "tc.SaveAs(\"Zpeak.png\")"
   ]
  }
 ],
 "metadata": {
  "kernelspec": {
   "display_name": "Python 3",
   "language": "python",
   "name": "python3"
  },
  "language_info": {
   "codemirror_mode": {
    "name": "ipython",
    "version": 3
   },
   "file_extension": ".py",
   "mimetype": "text/x-python",
   "name": "python",
   "nbconvert_exporter": "python",
   "pygments_lexer": "ipython3",
   "version": "3.8.10"
  }
 },
 "nbformat": 4,
 "nbformat_minor": 4
}
