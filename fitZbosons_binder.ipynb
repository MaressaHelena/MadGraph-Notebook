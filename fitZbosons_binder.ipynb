{
 "cells": [
  {
   "cell_type": "code",
   "execution_count": 30,
   "metadata": {},
   "outputs": [
    {
     "name": "stdout",
     "output_type": "stream",
     "text": [
      "Requirement already satisfied: pycstruct in /home/maressa/.local/lib/python3.8/site-packages (0.10.0)\n",
      "Note: you may need to restart the kernel to use updated packages.\n"
     ]
    }
   ],
   "source": [
    "pip install pycstruct"
   ]
  },
  {
   "cell_type": "code",
   "execution_count": 90,
   "metadata": {},
   "outputs": [
    {
     "name": "stdout",
     "output_type": "stream",
     "text": [
      "1921\n"
     ]
    },
    {
     "ename": "TypeError",
     "evalue": "none of the 2 overloaded methods succeeded. Full details:\n  TFitResultPtr TH1::Fit(TF1* f1, const char* option = \"\", const char* goption = \"\", double xmin = 0, double xmax = 0) =>\n    TypeError: RBWGaus() missing 2 required positional arguments: 'xx' and 'fbw'\n  TFitResultPtr TH1::Fit(const char* formula, const char* option = \"\", const char* goption = \"\", double xmin = 0, double xmax = 0) =>\n    TypeError: could not convert argument 1 (bad argument type for built-in operation)",
     "output_type": "error",
     "traceback": [
      "\u001b[0;31m---------------------------------------------------------------------------\u001b[0m",
      "\u001b[0;31mTypeError\u001b[0m                                 Traceback (most recent call last)",
      "\u001b[0;32m<ipython-input-90-78c8fb1cd51b>\u001b[0m in \u001b[0;36m<module>\u001b[0;34m\u001b[0m\n\u001b[1;32m     83\u001b[0m \u001b[0mf\u001b[0m\u001b[0;34m.\u001b[0m\u001b[0mSetLineColor\u001b[0m\u001b[0;34m(\u001b[0m\u001b[0mROOT\u001b[0m\u001b[0;34m.\u001b[0m\u001b[0mkBlue\u001b[0m\u001b[0;34m)\u001b[0m\u001b[0;34m\u001b[0m\u001b[0;34m\u001b[0m\u001b[0m\n\u001b[1;32m     84\u001b[0m \u001b[0;34m\u001b[0m\u001b[0m\n\u001b[0;32m---> 85\u001b[0;31m \u001b[0mhmass\u001b[0m\u001b[0;34m.\u001b[0m\u001b[0mFit\u001b[0m\u001b[0;34m(\u001b[0m\u001b[0mf\u001b[0m\u001b[0;34m,\u001b[0m\u001b[0;34m\"RNS\"\u001b[0m\u001b[0;34m,\u001b[0m\u001b[0;34m\"\"\u001b[0m\u001b[0;34m)\u001b[0m\u001b[0;34m\u001b[0m\u001b[0;34m\u001b[0m\u001b[0m\n\u001b[0m\u001b[1;32m     86\u001b[0m \u001b[0mhmass\u001b[0m\u001b[0;34m.\u001b[0m\u001b[0mDraw\u001b[0m\u001b[0;34m(\u001b[0m\u001b[0;34m\"ep\"\u001b[0m\u001b[0;34m)\u001b[0m\u001b[0;34m\u001b[0m\u001b[0;34m\u001b[0m\u001b[0m\n\u001b[1;32m     87\u001b[0m \u001b[0mf\u001b[0m\u001b[0;34m.\u001b[0m\u001b[0mDraw\u001b[0m\u001b[0;34m(\u001b[0m\u001b[0;34m\"same\"\u001b[0m\u001b[0;34m)\u001b[0m\u001b[0;34m\u001b[0m\u001b[0;34m\u001b[0m\u001b[0m\n",
      "\u001b[0;31mTypeError\u001b[0m: none of the 2 overloaded methods succeeded. Full details:\n  TFitResultPtr TH1::Fit(TF1* f1, const char* option = \"\", const char* goption = \"\", double xmin = 0, double xmax = 0) =>\n    TypeError: RBWGaus() missing 2 required positional arguments: 'xx' and 'fbw'\n  TFitResultPtr TH1::Fit(const char* formula, const char* option = \"\", const char* goption = \"\", double xmin = 0, double xmax = 0) =>\n    TypeError: could not convert argument 1 (bad argument type for built-in operation)"
     ]
    },
    {
     "name": "stdout",
     "output_type": "stream",
     "text": [
      "======> EVENT:0\n",
      " Zmass           = 80.9184\n",
      " Zpt             = 0.883632\n",
      " Zeta            = -6.1385\n",
      " Zphi            = -1.67533\n",
      " Zrapidity       = 1.19323\n",
      " Zcharge         = 0\n"
     ]
    },
    {
     "name": "stderr",
     "output_type": "stream",
     "text": [
      "Warning in <TCanvas::Constructor>: Deleting canvas with same name: tc\n"
     ]
    },
    {
     "data": {
      "image/png": "[encoded data removed]",
      "text/plain": [
       "<IPython.core.display.Image object>"
      ]
     },
     "metadata": {},
     "output_type": "display_data"
    }
   ],
   "source": [
    "import ROOT\n",
    "\n",
    "      #Fit parameters:\n",
    "      #par[0]=Width (scale) Breit-Wigner\n",
    "      #par[1]=Most Probable (MP, location) Breit mean\n",
    "      #par[2]=Total area (integral -inf to inf, normalization constant)\n",
    "      #par[3]=Width (sigma) of convoluted Gaussian function\n",
    "\n",
    "def RBWGaus(x, par, xx, fbw):\n",
    "\n",
    "    np = 100 # #number of convolution steps\n",
    "    sc = 4 #convolution extends to +-sc Gaussian sigmas\n",
    "\n",
    "          #Range of convolution integral\n",
    "    xmin = x[0] - sc * par[3]\n",
    "    xmax = x[0] + sc * par[3]\n",
    "    step = (xmax-xmin) / np\n",
    "    \n",
    "      # Convolution integral of Breit-Wigner and Gaussian by sum\n",
    "    sum = 0.0\n",
    "\n",
    "###\n",
    "\n",
    "    for i in range (1, np/2):\n",
    "        xx = xmin + (i-.5) * step\n",
    "        fbw = ROOT.BreitWigner(xx,par[1],par[0])\n",
    "        sum += fbw * ROOT.Gaus(x[0],xx,par[3])\n",
    "\n",
    "        xx = xmax - (i-.5) * step\n",
    "        fbw = ROOT.BreitWigner(xx,par[1],par[0])\n",
    "        sum += fbw * ROOT.Gaus(x[0],xx,par[3])\n",
    "    return (par[2] * step * sum * (1./sqrt(2*ROOT.Pi())) / par[3])\n",
    "\n",
    "\n",
    "c = ROOT.TCanvas()\n",
    "\n",
    "inf = ROOT.TFile.Open(\"Zbosons.root\")\n",
    "ztree = inf.Get(\"ztree\")\n",
    "ztree.Show (0) # printa as variáveis que estão na tree nesse evento 0\n",
    "N = ztree.GetEntries ()\n",
    "print (N)\n",
    "hmass = ROOT.TH1F(\"hmass\",\"\", 60,60,120)\n",
    "\n",
    "for j in range(0, ztree.GetEntries()):\n",
    "\n",
    "    ztree.GetEntry(j)\n",
    "\n",
    "    if(ztree.Zcharge != 0):\n",
    "        continue\n",
    "\n",
    "    hmass.Fill(ztree.Zmass)\n",
    "    hmass.Draw()\n",
    "    c.Draw()\n",
    "\n",
    "tc = ROOT.TCanvas(\"tc\",\"Dimuon mass\", 600, 600)\n",
    "\n",
    "tc.SetTopMargin(0.05)\n",
    "tc.SetRightMargin(0.05)\n",
    "tc.SetBottomMargin(0.12)\n",
    "tc.SetLeftMargin(0.13)\n",
    "tc.SetTickx(1)\n",
    "tc.SetTicky(1)\n",
    "\n",
    "\n",
    "\n",
    "hmass.SetMarkerStyle(20)\n",
    "hmass.SetMarkerColor(ROOT.kRed)\n",
    "hmass.SetLineColor(ROOT.kRed)\n",
    "hmass.GetXaxis().SetTitle(\"Mass (GeV)\")\n",
    "hmass.GetYaxis().SetTitle(\"Counts\")\n",
    "hmass.GetXaxis().SetTitleSize(0.05)\n",
    "hmass.GetYaxis().SetTitleSize(0.05)  \n",
    "hmass.GetYaxis().SetTitleOffset(1.2)\n",
    "\n",
    "\n",
    "f = ROOT.TF1(\"f\", RBWGaus ,60,120,4) #ROBLEMA AQUI\n",
    "\n",
    "\n",
    "f.SetParameters(2.495, 91.0, 2000.0, 2.0)\n",
    "f.SetParNames(\"BW width\",\"BW mean\",\"Area\",\"Sigma\")\n",
    "f.FixParameter(0, 2.495) #/PDG value\n",
    "f.SetParLimits(1, 86, 96)\n",
    "f.SetLineColor(ROOT.kBlue) \n",
    "\n",
    "hmass.Fit(f,\"RNS\",\"\")\n",
    "hmass.Draw(\"ep\")\n",
    "f.Draw(\"same\")"
   ]
  },
  {
   "cell_type": "code",
   "execution_count": 95,
   "metadata": {},
   "outputs": [
    {
     "ename": "AttributeError",
     "evalue": "'TH1F' object has no attribute 'Chi2'",
     "output_type": "error",
     "traceback": [
      "\u001b[0;31m---------------------------------------------------------------------------\u001b[0m",
      "\u001b[0;31mAttributeError\u001b[0m                            Traceback (most recent call last)",
      "\u001b[0;32m<ipython-input-95-1e58c82efa11>\u001b[0m in \u001b[0;36m<module>\u001b[0;34m\u001b[0m\n\u001b[1;32m     11\u001b[0m \u001b[0mtx\u001b[0m\u001b[0;34m.\u001b[0m\u001b[0mSetNDC\u001b[0m\u001b[0;34m(\u001b[0m\u001b[0mROOT\u001b[0m\u001b[0;34m.\u001b[0m\u001b[0mkTRUE\u001b[0m\u001b[0;34m)\u001b[0m\u001b[0;34m\u001b[0m\u001b[0;34m\u001b[0m\u001b[0m\n\u001b[1;32m     12\u001b[0m \u001b[0;34m\u001b[0m\u001b[0m\n\u001b[0;32m---> 13\u001b[0;31m \u001b[0mtx\u001b[0m\u001b[0;34m.\u001b[0m\u001b[0mDrawLatex\u001b[0m\u001b[0;34m(\u001b[0m\u001b[0;36m0.63\u001b[0m\u001b[0;34m,\u001b[0m\u001b[0;36m0.87\u001b[0m\u001b[0;34m,\u001b[0m\u001b[0mROOT\u001b[0m\u001b[0;34m.\u001b[0m\u001b[0mForm\u001b[0m\u001b[0;34m(\u001b[0m\u001b[0;34m\"#chi^{2}/ndf = %g/%d\"\u001b[0m\u001b[0;34m,\u001b[0m\u001b[0mhmass\u001b[0m\u001b[0;34m.\u001b[0m\u001b[0mChi2\u001b[0m\u001b[0;34m(\u001b[0m\u001b[0;34m)\u001b[0m\u001b[0;34m,\u001b[0m\u001b[0mhmass\u001b[0m\u001b[0;34m.\u001b[0m\u001b[0mNdf\u001b[0m\u001b[0;34m(\u001b[0m\u001b[0;34m)\u001b[0m\u001b[0;34m)\u001b[0m\u001b[0;34m)\u001b[0m\u001b[0;34m\u001b[0m\u001b[0;34m\u001b[0m\u001b[0m\n\u001b[0m\u001b[1;32m     14\u001b[0m \u001b[0mtx\u001b[0m\u001b[0;34m.\u001b[0m\u001b[0mDrawLatex\u001b[0m\u001b[0;34m(\u001b[0m\u001b[0;36m0.63\u001b[0m\u001b[0;34m,\u001b[0m\u001b[0;36m0.83\u001b[0m\u001b[0;34m,\u001b[0m\u001b[0mROOT\u001b[0m\u001b[0;34m.\u001b[0m\u001b[0mForm\u001b[0m\u001b[0;34m(\u001b[0m\u001b[0;34m\"Yield = %g#pm%g\"\u001b[0m\u001b[0;34m,\u001b[0m\u001b[0mff\u001b[0m\u001b[0;34m.\u001b[0m\u001b[0mParameter\u001b[0m\u001b[0;34m(\u001b[0m\u001b[0;36m2\u001b[0m\u001b[0;34m)\u001b[0m\u001b[0;34m,\u001b[0m\u001b[0mff\u001b[0m\u001b[0;34m.\u001b[0m\u001b[0mParError\u001b[0m\u001b[0;34m(\u001b[0m\u001b[0;36m2\u001b[0m\u001b[0;34m)\u001b[0m\u001b[0;34m)\u001b[0m\u001b[0;34m)\u001b[0m\u001b[0;34m\u001b[0m\u001b[0;34m\u001b[0m\u001b[0m\n\u001b[1;32m     15\u001b[0m \u001b[0;34m\u001b[0m\u001b[0m\n",
      "\u001b[0;31mAttributeError\u001b[0m: 'TH1F' object has no attribute 'Chi2'"
     ]
    }
   ],
   "source": [
    "l = ROOT.TLegend(0.18,0.78,0.34,0.90)\n",
    "l.SetTextSize(0.04)\n",
    "l.AddEntry(hmass,\"Z#rightarrow#mu#mu\",\"lp\") # ???\n",
    "l.AddEntry(f,\"Fit\",\"l\")\n",
    "l.Draw()\n",
    "\n",
    "tx = ROOT.TLatex()\n",
    "tx.SetTextSize(0.03)\n",
    "tx.SetTextAlign(12)\n",
    "tx.SetTextFont(42)\n",
    "tx.SetNDC(ROOT.kTRUE)\n",
    "\n",
    "tx.DrawLatex(0.63,0.87,ROOT.Form(\"#chi^{2}/ndf = %g/%d\",hmass.Chi2(),hmass.Ndf()))\n",
    "tx.DrawLatex(0.63,0.83,ROOT.Form(\"Yield = %g#pm%g\",ff.Parameter(2),ff.ParError(2)))\n",
    "\n",
    "tc.SaveAs(\"Zpeak.png\")"
   ]
  },
  {
   "cell_type": "code",
   "execution_count": null,
   "metadata": {},
   "outputs": [],
   "source": []
  }
 ],
 "metadata": {
  "kernelspec": {
   "display_name": "Python 3",
   "language": "python",
   "name": "python3"
  },
  "language_info": {
   "codemirror_mode": {
    "name": "ipython",
    "version": 3
   },
   "file_extension": ".py",
   "mimetype": "text/x-python",
   "name": "python",
   "nbconvert_exporter": "python",
   "pygments_lexer": "ipython3",
   "version": "3.8.10"
  }
 },
 "nbformat": 4,
 "nbformat_minor": 4
}
