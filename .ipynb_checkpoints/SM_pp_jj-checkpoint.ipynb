{
 "cells": [
  {
   "cell_type": "code",
   "execution_count": 1,
   "metadata": {},
   "outputs": [
    {
     "ename": "ModuleNotFoundError",
     "evalue": "No module named 'read_lhe_uproot'",
     "output_type": "error",
     "traceback": [
      "\u001b[0;31m---------------------------------------------------------------------------\u001b[0m",
      "\u001b[0;31mModuleNotFoundError\u001b[0m                       Traceback (most recent call last)",
      "\u001b[0;32m<ipython-input-1-806ac9aac6f9>\u001b[0m in \u001b[0;36m<module>\u001b[0;34m\u001b[0m\n\u001b[1;32m      5\u001b[0m \u001b[0;32mimport\u001b[0m \u001b[0mmatplotlib\u001b[0m \u001b[0;32mas\u001b[0m \u001b[0mmpl\u001b[0m\u001b[0;34m\u001b[0m\u001b[0;34m\u001b[0m\u001b[0m\n\u001b[1;32m      6\u001b[0m \u001b[0;32mimport\u001b[0m \u001b[0mmatplotlib\u001b[0m\u001b[0;34m.\u001b[0m\u001b[0mpyplot\u001b[0m \u001b[0;32mas\u001b[0m \u001b[0mplt\u001b[0m\u001b[0;34m\u001b[0m\u001b[0;34m\u001b[0m\u001b[0m\n\u001b[0;32m----> 7\u001b[0;31m \u001b[0;32mfrom\u001b[0m \u001b[0mread_lhe_uproot\u001b[0m \u001b[0;32mimport\u001b[0m \u001b[0;34m*\u001b[0m\u001b[0;34m\u001b[0m\u001b[0;34m\u001b[0m\u001b[0m\n\u001b[0m\u001b[1;32m      8\u001b[0m mpl.rcParams.update(\n\u001b[1;32m      9\u001b[0m     {'font.size': 18,\n",
      "\u001b[0;31mModuleNotFoundError\u001b[0m: No module named 'read_lhe_uproot'"
     ]
    }
   ],
   "source": [
    "import uproot\n",
    "import awkward as ak\n",
    "import numpy as np\n",
    "import pandas as pd\n",
    "import matplotlib as mpl\n",
    "import matplotlib.pyplot as plt\n",
    "from read_lhe_uproot import *\n",
    "mpl.rcParams.update(\n",
    "    {'font.size': 18,\n",
    "     'font.family': 'sans-serif',\n",
    "     'legend.fontsize': 14,\n",
    "     'axes.labelsize': 22,\n",
    "     'axes.labelpad': 8.0,\n",
    "     'xtick.labelsize': 14,\n",
    "     'ytick.labelsize': 14\n",
    "    }\n",
    "    )"
   ]
  },
  {
   "cell_type": "code",
   "execution_count": null,
   "metadata": {},
   "outputs": [],
   "source": [
    "df = read_lhe_uproot('SM_pp_jj/Events/run_01/unweighted_events.root')\n",
    "df"
   ]
  },
  {
   "cell_type": "code",
   "execution_count": null,
   "metadata": {},
   "outputs": [],
   "source": [
    "df['cos_theta'] = df.Pz / np.sqrt(df.Pz ** 2 + df.PT ** 2)\n",
    "selection = ((df.Status == 1) & (df.PID == 21))\n",
    "df_sel = df [selection]\n",
    "df_sel\n",
    "pd.set_option('display.max_rows', None) # expandindo para visualização máxima do número de linhas\n",
    "df_sel # tabela específica para expandir"
   ]
  },
  {
   "cell_type": "code",
   "execution_count": null,
   "metadata": {},
   "outputs": [],
   "source": [
    "fig = plt.figure (figsize=(12,10))\n",
    "plt.hist(df_sel['cos_theta'], histtype='step', bins=100)\n",
    "plt.xlabel(r'$\\cos\\theta$')\n",
    "plt.ylabel('Número de Eventos')"
   ]
  },
  {
   "cell_type": "code",
   "execution_count": null,
   "metadata": {},
   "outputs": [],
   "source": [
    "fig = plt.figure (figsize=(12,10))\n",
    "plt.hist( df_sel['Eta'], histtype='step', bins=100)\n",
    "plt.xlabel(r'$\\eta$')\n",
    "plt.ylabel('Número de Eventos')"
   ]
  }
 ],
 "metadata": {
  "kernelspec": {
   "display_name": "Python 3",
   "language": "python",
   "name": "python3"
  },
  "language_info": {
   "codemirror_mode": {
    "name": "ipython",
    "version": 3
   },
   "file_extension": ".py",
   "mimetype": "text/x-python",
   "name": "python",
   "nbconvert_exporter": "python",
   "pygments_lexer": "ipython3",
   "version": "3.8.10"
  }
 },
 "nbformat": 4,
 "nbformat_minor": 4
}
